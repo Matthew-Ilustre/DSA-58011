{
  "nbformat": 4,
  "nbformat_minor": 0,
  "metadata": {
    "colab": {
      "provenance": [],
      "collapsed_sections": [],
      "authorship_tag": "ABX9TyNqRdKFfwwbmh6GoAOxn+hC",
      "include_colab_link": true
    },
    "kernelspec": {
      "name": "python3",
      "display_name": "Python 3"
    },
    "language_info": {
      "name": "python"
    }
  },
  "cells": [
    {
      "cell_type": "markdown",
      "metadata": {
        "id": "view-in-github",
        "colab_type": "text"
      },
      "source": [
        "<a href=\"https://colab.research.google.com/github/Matthew-Ilustre/DSA-58011/blob/main/Activity2.ipynb\" target=\"_parent\"><img src=\"https://colab.research.google.com/assets/colab-badge.svg\" alt=\"Open In Colab\"/></a>"
      ]
    },
    {
      "cell_type": "markdown",
      "source": [
        "singly linked list of vowel in English alphabet. By iterating through the list, display all the vowels, the head, and the tail of the list."
      ],
      "metadata": {
        "id": "C5ICG-vYmHAg"
      }
    },
    {
      "cell_type": "code",
      "execution_count": 45,
      "metadata": {
        "colab": {
          "base_uri": "https://localhost:8080/"
        },
        "id": "JKQVxWEBmE77",
        "outputId": "5501c9f0-f921-4c9a-87b8-923a728f5d11"
      },
      "outputs": [
        {
          "output_type": "stream",
          "name": "stdout",
          "text": [
            "Aa\n",
            "Ee\n",
            "Ii\n",
            "Oo\n",
            "Uu\n",
            "Head of the list:  Aa \n",
            " Tail of the list:  Uu\n"
          ]
        }
      ],
      "source": [
        "class Vowel:\n",
        "  def __init__(self,data):\n",
        "    self.data = data\n",
        "    self.next = None\n",
        "\n",
        "class LinkedList:\n",
        "  def __init__(self):\n",
        "    self.head = None\n",
        "  def printList(self):\n",
        "    temp = self.head\n",
        "    while(temp):\n",
        "      print(temp.data)\n",
        "      temp = temp.next\n",
        "\n",
        "\n",
        "llist = LinkedList()\n",
        "\n",
        "llist.head = Vowel(\"Aa\")\n",
        "second = Vowel(\"Ee\")\n",
        "third = Vowel(\"Ii\")\n",
        "fourth = Vowel(\"Oo\")\n",
        "llist.tail = Vowel(\"Uu\")\n",
        "\n",
        "llist.head.next = second\n",
        "second.next = third\n",
        "third.next = fourth\n",
        "fourth.next = llist.tail\n",
        "\n",
        "llist.printList()\n",
        "\n",
        "\n",
        "vowels = [\"Aa\", \"Ee\", \"Ii\", \"Oo\", \"Uu\"]\n",
        "print('Head of the list: ',vowels[0] , '\\n', 'Tail of the list: ', vowels[4] )"
      ]
    }
  ]
}