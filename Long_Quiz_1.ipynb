{
  "nbformat": 4,
  "nbformat_minor": 0,
  "metadata": {
    "colab": {
      "provenance": [],
      "collapsed_sections": [],
      "authorship_tag": "ABX9TyOb13NxJik33QA1rSxd2n/o",
      "include_colab_link": true
    },
    "kernelspec": {
      "name": "python3",
      "display_name": "Python 3"
    },
    "language_info": {
      "name": "python"
    }
  },
  "cells": [
    {
      "cell_type": "markdown",
      "metadata": {
        "id": "view-in-github",
        "colab_type": "text"
      },
      "source": [
        "<a href=\"https://colab.research.google.com/github/Matthew-Ilustre/DSA-58011/blob/main/Long_Quiz_1.ipynb\" target=\"_parent\"><img src=\"https://colab.research.google.com/assets/colab-badge.svg\" alt=\"Open In Colab\"/></a>"
      ]
    },
    {
      "cell_type": "markdown",
      "source": [
        "LONG QUIZ (ARRAY METHOD)"
      ],
      "metadata": {
        "id": "btpE1qAXXMzy"
      }
    },
    {
      "cell_type": "code",
      "source": [
        "\n",
        "\n",
        "class Name:\n",
        "  def __init__(self,FN,LN,MN):\n",
        "    self.FN = FN\n",
        "    self.LN = LN\n",
        "    self.MN = MN\n",
        "\n",
        "  def fullname(self):\n",
        "    FullName = [MN,FN,LN];\n",
        "    RevN= FullName[::-1] \n",
        "    print(\"Welcome \", RevN)\n",
        "\n",
        "FN = input(\"What is your First Name: \")\n",
        "LN = input(\"What is your Last Name: \")\n",
        "MN = input(\"What is your Middle Name: \")\n",
        "\n",
        "view=Name(FN,LN,MN)\n",
        "view.fullname()"
      ],
      "metadata": {
        "colab": {
          "base_uri": "https://localhost:8080/"
        },
        "id": "Cs3D53Q_axA-",
        "outputId": "7ba587c0-2472-4939-bdd4-5ab4be89cbf1"
      },
      "execution_count": 41,
      "outputs": [
        {
          "output_type": "stream",
          "name": "stdout",
          "text": [
            "What is your First Name: Matthew\n",
            "What is your Last Name: Ilustre\n",
            "What is your Middle Name: Hizola\n",
            "Welcome  ['Ilustre', 'Matthew', 'Hizola']\n"
          ]
        }
      ]
    },
    {
      "cell_type": "code",
      "source": [],
      "metadata": {
        "id": "VS8PZJI_apQv"
      },
      "execution_count": null,
      "outputs": []
    }
  ]
}