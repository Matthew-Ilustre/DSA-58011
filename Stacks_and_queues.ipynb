{
  "nbformat": 4,
  "nbformat_minor": 0,
  "metadata": {
    "colab": {
      "provenance": [],
      "authorship_tag": "ABX9TyN1MWSnM45gobRQiZgJNvpn",
      "include_colab_link": true
    },
    "kernelspec": {
      "name": "python3",
      "display_name": "Python 3"
    },
    "language_info": {
      "name": "python"
    }
  },
  "cells": [
    {
      "cell_type": "markdown",
      "metadata": {
        "id": "view-in-github",
        "colab_type": "text"
      },
      "source": [
        "<a href=\"https://colab.research.google.com/github/Matthew-Ilustre/DSA-58011/blob/main/Stacks_and_queues.ipynb\" target=\"_parent\"><img src=\"https://colab.research.google.com/assets/colab-badge.svg\" alt=\"Open In Colab\"/></a>"
      ]
    },
    {
      "cell_type": "code",
      "execution_count": 2,
      "metadata": {
        "colab": {
          "base_uri": "https://localhost:8080/"
        },
        "id": "wCwPo7WtelNS",
        "outputId": "286c45da-8225-4ac4-e126-56e915f2b2e7"
      },
      "outputs": [
        {
          "output_type": "stream",
          "name": "stdout",
          "text": [
            "1\n",
            "2\n",
            "3\n",
            "The last element in the stack is 3\n"
          ]
        }
      ],
      "source": [
        "#Python program to create a sngly Linke-List\n",
        "\n",
        "class Node:\n",
        "  def __init__(self,data):\n",
        "    self.data = data\n",
        "    self.next = None\n",
        "\n",
        "class LinkedList:\n",
        "  def __init__(self):\n",
        "    self.head = None\n",
        "  def printList(self):\n",
        "    temp = self.head\n",
        "    while(temp):\n",
        "      print(temp.data)\n",
        "      temp = temp.next\n",
        "  def isempty(self):\n",
        "    if self.printList == None:\n",
        "      return True\n",
        "    else:\n",
        "      return False\n",
        "\n",
        "  def pop(self):\n",
        "    if self.isempty():\n",
        "      print(\"The stack is empty\")\n",
        "    else:\n",
        "      popped_node = third\n",
        "      return popped_node.data\n",
        "  \n",
        "      \n",
        "\n",
        "#code to start the execution\n",
        "llist = LinkedList()\n",
        "llist.head = Node(1)\n",
        "second = Node(2)\n",
        "third = Node(3)\n",
        "\n",
        "llist.head.next = second\n",
        "second.next = third\n",
        "\n",
        "llist.printList()\n",
        "print(\"The last element in the stack is\", llist.pop())\n"
      ]
    },
    {
      "cell_type": "code",
      "source": [
        "#Python program to demonstrate stack implementation using Array\n",
        "stack = []\n",
        "#insert/append elements in the stack\n",
        "\n",
        "stack.append('a')\n",
        "stack.append('b')\n",
        "stack.append('c')\n",
        "print('Initial elements in the stack',stack)\n",
        "\n",
        "#removing elements/pop () function to pop elements from the stack\n",
        "print(stack.pop())\n",
        "print(\"After popping the last element\")\n",
        "print(stack)\n"
      ],
      "metadata": {
        "colab": {
          "base_uri": "https://localhost:8080/"
        },
        "id": "L5ZkkFwZf6vx",
        "outputId": "a78d479e-5e85-4179-e98f-679cccbeb020"
      },
      "execution_count": 1,
      "outputs": [
        {
          "output_type": "stream",
          "name": "stdout",
          "text": [
            "Initial elements in the stack ['a', 'b', 'c']\n",
            "c\n",
            "After popping the last element\n",
            "['a', 'b']\n"
          ]
        }
      ]
    }
  ]
}