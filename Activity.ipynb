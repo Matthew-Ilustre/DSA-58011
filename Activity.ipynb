{
  "cells": [
    {
      "cell_type": "markdown",
      "metadata": {
        "id": "view-in-github",
        "colab_type": "text"
      },
      "source": [
        "<a href=\"https://colab.research.google.com/github/Matthew-Ilustre/DSA-58011/blob/main/Activity.ipynb\" target=\"_parent\"><img src=\"https://colab.research.google.com/assets/colab-badge.svg\" alt=\"Open In Colab\"/></a>"
      ]
    },
    {
      "cell_type": "markdown",
      "source": [
        "1) Write a Python program to create an array of 10 integers and display the array items. Access individual elements through indexes and compute for the sum."
      ],
      "metadata": {
        "id": "ozac-qWA2Ofg"
      }
    },
    {
      "cell_type": "code",
      "execution_count": 2,
      "metadata": {
        "colab": {
          "base_uri": "https://localhost:8080/"
        },
        "id": "irapIOe4SXwn",
        "outputId": "f22a7875-9e90-4be0-efec-ef3109be33d8"
      },
      "outputs": [
        {
          "output_type": "stream",
          "name": "stdout",
          "text": [
            "1st element 1\n",
            "2nd element 2\n",
            "3rd element 3\n",
            "4th element 4\n",
            "5th element 5\n",
            "6th element 6\n",
            "7th element 7\n",
            "8th element 8\n",
            "9th element 9\n",
            "10th element 10\n"
          ]
        }
      ],
      "source": [
        "\n",
        "N = [1,2,3,4,5,6,7,8,9,10]\n",
        "\n",
        "print(\"1st element\" , N[0])\n",
        "print(\"2nd element\" , N[1])\n",
        "print(\"3rd element\" , N[2])\n",
        "print(\"4th element\" , N[3])\n",
        "print(\"5th element\" , N[4])\n",
        "print(\"6th element\" , N[5])\n",
        "print(\"7th element\" , N[6])\n",
        "print(\"8th element\" , N[7])\n",
        "print(\"9th element\" , N[8])\n",
        "print(\"10th element\" , N[9])\n",
        "\n",
        "n = len(N)"
      ]
    },
    {
      "cell_type": "code",
      "execution_count": 3,
      "metadata": {
        "colab": {
          "base_uri": "https://localhost:8080/"
        },
        "id": "ZxuUCstnTQll",
        "outputId": "4927b9bf-7c8a-428b-9c68-f0c521ecfe10"
      },
      "outputs": [
        {
          "output_type": "stream",
          "name": "stdout",
          "text": [
            "55  is the sum of array\n"
          ]
        }
      ],
      "source": [
        "Sum = sum(N)\n",
        "print(Sum,\" is the sum of array\")"
      ]
    },
    {
      "cell_type": "markdown",
      "source": [
        "2) Write a Python program to append a new item to the end of the array. Original array: numbers = [1, 2, 3, 4, 5, 6, 7, 8, 9, 10]"
      ],
      "metadata": {
        "id": "HtrnuBww2T5_"
      }
    },
    {
      "cell_type": "code",
      "execution_count": 5,
      "metadata": {
        "colab": {
          "base_uri": "https://localhost:8080/"
        },
        "id": "oN5imiUWYX2g",
        "outputId": "df69e17f-68f3-4540-f162-2ff3d32966b9"
      },
      "outputs": [
        {
          "output_type": "stream",
          "name": "stdout",
          "text": [
            "original array  [1, 2, 3, 4, 5, 6, 7, 8, 9, 10]\n",
            "after insertion  [1, 2, 3, 4, 5, 6, 7, 8, 9, 10, 11]\n"
          ]
        }
      ],
      "source": [
        "print(\"original array \", N)\n",
        "M=N\n",
        "M.append(11)\n",
        "print(\"after insertion \", M)"
      ]
    },
    {
      "cell_type": "markdown",
      "source": [
        "3) Write a Python program to insert a new item before the second element in an existing array. Original array: numbers = [1, 2, 3, 4, 5, 6, 7, 8, 9, 10]"
      ],
      "metadata": {
        "id": "Uce7kifB2Y5p"
      }
    },
    {
      "cell_type": "code",
      "source": [
        "K=N\n",
        "K.insert(1,11)\n",
        "print(K)"
      ],
      "metadata": {
        "colab": {
          "base_uri": "https://localhost:8080/"
        },
        "id": "zdChmoii1rFP",
        "outputId": "6b7f4039-29d8-4527-dcfe-1a0642a90845"
      },
      "execution_count": 9,
      "outputs": [
        {
          "output_type": "stream",
          "name": "stdout",
          "text": [
            "[1, 11, 2, 3, 4, 5, 6, 7, 8, 9, 10, 11]\n"
          ]
        }
      ]
    },
    {
      "cell_type": "markdown",
      "source": [
        "4) Write a Python program to reverse the order of the items in the array.Original array: numbers = [5, 4, 3, 2, 1]"
      ],
      "metadata": {
        "id": "bjtDlzSY2eX3"
      }
    },
    {
      "cell_type": "code",
      "source": [
        "print(\"originginal Array \", N)\n",
        "rev=N[::-1]\n",
        "print(\"Reversed Array \", rev)"
      ],
      "metadata": {
        "colab": {
          "base_uri": "https://localhost:8080/"
        },
        "id": "MGrm9-0H0FUP",
        "outputId": "40be7615-2872-49cc-8ca0-889ef79f6d39"
      },
      "execution_count": 8,
      "outputs": [
        {
          "output_type": "stream",
          "name": "stdout",
          "text": [
            "originginal Array  [1, 2, 3, 4, 5, 6, 7, 8, 9, 10, 11]\n",
            "Reversed Array  [11, 10, 9, 8, 7, 6, 5, 4, 3, 2, 1]\n"
          ]
        }
      ]
    },
    {
      "cell_type": "markdown",
      "source": [
        "5) Write a Python program to get the length of the array. Original array: numbers = [5, 4, 3, 2, 1]"
      ],
      "metadata": {
        "id": "hRvtUv6O2jwY"
      }
    },
    {
      "cell_type": "code",
      "source": [
        "L= len(N)\n",
        "print(L)"
      ],
      "metadata": {
        "colab": {
          "base_uri": "https://localhost:8080/"
        },
        "id": "W_SD44ufzquH",
        "outputId": "2326e5af-66c8-4ebc-e7e8-20c1a9d71ae1"
      },
      "execution_count": 7,
      "outputs": [
        {
          "output_type": "stream",
          "name": "stdout",
          "text": [
            "11\n"
          ]
        }
      ]
    }
  ],
  "metadata": {
    "colab": {
      "provenance": [],
      "collapsed_sections": [],
      "authorship_tag": "ABX9TyMUrir7CslOgp2C1eekPl8O",
      "include_colab_link": true
    },
    "kernelspec": {
      "display_name": "Python 3",
      "name": "python3"
    },
    "language_info": {
      "name": "python"
    }
  },
  "nbformat": 4,
  "nbformat_minor": 0
}