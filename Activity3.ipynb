{
  "nbformat": 4,
  "nbformat_minor": 0,
  "metadata": {
    "colab": {
      "provenance": [],
      "collapsed_sections": [],
      "authorship_tag": "ABX9TyOyagLFUoUj8a4qskTP/cBE",
      "include_colab_link": true
    },
    "kernelspec": {
      "name": "python3",
      "display_name": "Python 3"
    },
    "language_info": {
      "name": "python"
    }
  },
  "cells": [
    {
      "cell_type": "markdown",
      "metadata": {
        "id": "view-in-github",
        "colab_type": "text"
      },
      "source": [
        "<a href=\"https://colab.research.google.com/github/Matthew-Ilustre/DSA-58011/blob/main/Activity3.ipynb\" target=\"_parent\"><img src=\"https://colab.research.google.com/assets/colab-badge.svg\" alt=\"Open In Colab\"/></a>"
      ]
    },
    {
      "cell_type": "markdown",
      "source": [
        "Instruction: Type the python codes below in your Colab. After running your codes, answer the questions below."
      ],
      "metadata": {
        "id": "GcQdlhyltWI5"
      }
    },
    {
      "cell_type": "markdown",
      "source": [
        "Given"
      ],
      "metadata": {
        "id": "G0i94px5sKgB"
      }
    },
    {
      "cell_type": "code",
      "source": [
        "# Stack implementation in python\n",
        "# Creating a stack\n",
        "def create_stack():\n",
        "    stack = []\n",
        "    return stack\n",
        "\n",
        "# Creating an empty stack\n",
        "def is_empty(stack):\n",
        "\n",
        "    return len(stack) == 0\n",
        "\n",
        "# Adding items into the stack\n",
        "def push(stack, item):\n",
        "    stack.append(item)\n",
        "    print(\"Pushed Element: \" + item)\n",
        "\n",
        "# Removing an element from the stack\n",
        "def pop(stack):\n",
        "    if (is_empty(stack)):\n",
        "        return \"The stack is empty\"\n",
        "    return stack.pop()"
      ],
      "metadata": {
        "id": "fK4ccUPxsI5Z"
      },
      "execution_count": 19,
      "outputs": []
    },
    {
      "cell_type": "markdown",
      "source": [
        "QUESTION\n",
        "  \n",
        "\n",
        "1.   Upon typing the codes, what is the name of the abstract data type? How is it implemented?\n",
        "\n",
        "2.  What is the output of the codes?\n",
        "\n",
        "3.   If you want to type additional codes, what will be the statement to pop 3 elements from the top of the stack?\n",
        "\n",
        "4.   If you will revise the codes, what will be the statement to determine the length of the stack? (Note: You may add additional methods to count the no. of elements in the stack)\n",
        "\n",
        "\n",
        "\n",
        "\n"
      ],
      "metadata": {
        "id": "_iCxdBEOsMmA"
      }
    },
    {
      "cell_type": "markdown",
      "source": [
        "ANSWERS\n",
        "1.  abstract data type are stack, push, and pop. \"stack\" is used to create a \"push\" and it is used to place a new item on top of the \"pop\" is used to delete an item on top of the list.\n",
        "\n"
      ],
      "metadata": {
        "id": "KaLodY3QuiSY"
      }
    },
    {
      "cell_type": "code",
      "execution_count": 31,
      "metadata": {
        "colab": {
          "base_uri": "https://localhost:8080/"
        },
        "id": "nuoAjEjwC6dk",
        "outputId": "e6b9cdd1-aed6-4239-8dbc-518ae109c6b9"
      },
      "outputs": [
        {
          "output_type": "stream",
          "name": "stdout",
          "text": [
            "2) OUTPUT OF THE PROGRAM: \n",
            "Pushed Element: 1\n",
            "Pushed Element: 2\n",
            "Pushed Element: 3\n",
            "Pushed Element: 4\n",
            "Pushed Element: 5\n",
            " \n",
            "3) The length of the stack is:  2\n",
            " \n",
            "4) The elements in the stack are:['1', '2']\n"
          ]
        }
      ],
      "source": [
        "print(\"2) OUTPUT OF THE PROGRAM: \")\n",
        "stack = create_stack()\n",
        "push(stack, str(1))\n",
        "push(stack, str(2))\n",
        "push(stack, str(3))\n",
        "push(stack, str(4))\n",
        "push(stack, str(5))\n",
        "\n",
        "\n",
        "#3) pop 3 elements from the top of the stack\n",
        "stack.pop()\n",
        "stack.pop()\n",
        "stack.pop()\n",
        "\n",
        "#4) determine the length of the stack\n",
        "print(\" \")\n",
        "print(\"3) The length of the stack is: \", len(stack))\n",
        "print(\" \")\n",
        "print(\"4) The elements in the stack are:\"+ str(stack))"
      ]
    }
  ]
}