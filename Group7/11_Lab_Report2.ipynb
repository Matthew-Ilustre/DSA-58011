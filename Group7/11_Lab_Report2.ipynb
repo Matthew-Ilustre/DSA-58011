{
  "nbformat": 4,
  "nbformat_minor": 0,
  "metadata": {
    "colab": {
      "provenance": [],
      "authorship_tag": "ABX9TyPJjuUlrOU4uIqk1G0/mVQj",
      "include_colab_link": true
    },
    "kernelspec": {
      "name": "python3",
      "display_name": "Python 3"
    },
    "language_info": {
      "name": "python"
    }
  },
  "cells": [
    {
      "cell_type": "markdown",
      "metadata": {
        "id": "view-in-github",
        "colab_type": "text"
      },
      "source": [
        "<a href=\"https://colab.research.google.com/github/Matthew-Ilustre/DSA-58011/blob/main/Group7/11_Lab_Report2.ipynb\" target=\"_parent\"><img src=\"https://colab.research.google.com/assets/colab-badge.svg\" alt=\"Open In Colab\"/></a>"
      ]
    },
    {
      "cell_type": "code",
      "execution_count": null,
      "metadata": {
        "colab": {
          "base_uri": "https://localhost:8080/"
        },
        "id": "mj188cKrHf4b",
        "outputId": "bd7ee0cb-9944-4ff7-b05c-89dd9965455d"
      },
      "outputs": [
        {
          "output_type": "stream",
          "name": "stdout",
          "text": [
            "(-1, 1041)\n"
          ]
        }
      ],
      "source": [
        "def minandmax (lst, minimum = None, maximum = None, copy = False):\n",
        "    if len (lst) == 0:\n",
        "        return minimum, maximum    \n",
        "    if copy == False:\n",
        "        copy = True\n",
        "        lst = lst [:]\n",
        "        minimum = lst [0]\n",
        "        maximum = lst [0]\n",
        "    last = lst.pop()\n",
        "    if last > maximum:\n",
        "        maximum = last\n",
        "    elif last < minimum:\n",
        "        minimum = last\n",
        "    return minandmax (lst, minimum, maximum, copy)\n",
        "\n",
        "    \n",
        "print (minandmax ([4, 8, 12, 74, -1, 1041, 3 ,1, 54]))\n",
        "\n"
      ]
    }
  ]
}